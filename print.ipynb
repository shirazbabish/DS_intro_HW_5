{
 "cells": [
  {
   "cell_type": "code",
   "execution_count": 6,
   "metadata": {},
   "outputs": [
    {
     "name": "stdout",
     "output_type": "stream",
     "text": [
      "         city      Country                                        Description\n",
      "0     Antalya       Turkey  Once seen simply as the gateway to the Turkish...\n",
      "1      Athens       Greece  With equal measures of grunge and grace, Athen...\n",
      "2   Ayia-napa       Cyprus  Endless blue-sky days and a coastline riddled ...\n",
      "3     Bangkok     Thailand  Same same, but different. This Thailish T-shir...\n",
      "4   Barcelona        Spain  Barcelona is an enchanting seaside city with b...\n",
      "..        ...          ...                                                ...\n",
      "71     Venice        Italy  Imagine the audacity of building a city of mar...\n",
      "72     Vienna      Austria  Baroque streetscapes and imperial palaces set ...\n",
      "73     Warsaw       Poland  A phoenix arisen from the ashes, Poland's capi...\n",
      "74  Zakynthos       Greece  Zakynthos, also known by its Italian name Zant...\n",
      "75     Zurich  Switzerland  Culturally vibrant, efficiently run and attrac...\n",
      "\n",
      "[76 rows x 3 columns]\n"
     ]
    }
   ],
   "source": [
    "import pandas as pd\n",
    "import requests\n",
    "from bs4 import BeautifulSoup\n",
    "data=pd.read_csv(\"destinations_LP_crawler_Ex5.csv\", encoding='ISO-8859-1')\n",
    "dataF = pd.DataFrame(data[\"city\"])\n",
    "country =  []\n",
    "description = []\n",
    "secret =  'shoo! secret :)'\n",
    "for cityIndex in range(len(data)): \n",
    "    try:\n",
    "        url = \"https://maps.googleapis.com/maps/api/geocode/json?address=%s&key=%s\" % (data.loc[cityIndex,'city'], secret)\n",
    "        response = requests.get(url)\n",
    "        parsedResponse = response.json()\n",
    "        country_of = parsedResponse['results'][0]['formatted_address'].split(\",\")[-1].rstrip().lstrip()\n",
    "        try:\n",
    "            f = int(country_of.split()[0])\n",
    "            country_of = parsedResponse['results'][0]['formatted_address'].split(\",\")[1].strip()\n",
    "            country.append(country_of)\n",
    "        except:\n",
    "            country.append(country_of)\n",
    "    except:\n",
    "        url = \"https://maps.googleapis.com/maps/api/geocode/json?address=%s&key=%s\" % (data.loc[cityIndex,'city_LP'], secret)\n",
    "        response = requests.get(url)\n",
    "        parsedResponse = response.json()\n",
    "        country_of = parsedResponse['results'][0]['formatted_address'].split(\",\")[-1].rstrip().lstrip()\n",
    "        country.append(country_of)\n",
    "\n",
    "data[\"country\"] = country\n",
    "dataF[\"Country\"] = country\n",
    "for countryIndex in range(len(data)):\n",
    "        if data.loc[countryIndex,'country'].startswith(\"Odessa\"): \n",
    "            data.loc[countryIndex,'country'] = \"Ukraine\"\n",
    "        url1 = \"https://www.lonelyplanet.com/%s/%s\"% (data.loc[countryIndex,'country'],data.loc[countryIndex,'city_LP'])\n",
    "        response = requests.get(url1)\n",
    "        beauti = BeautifulSoup(response.content, 'html.parser')\n",
    "        Main_tag = beauti.find(\"section\", { \"id\" : \"introduction\" })\n",
    "        Text_tag = Main_tag.find('p').text\n",
    "        description.append(Text_tag)\n",
    "dataF[\"Description\"] = description\n",
    "print(dataF)\n",
    "dataF.to_csv('export_CSV.csv', index=False)"
   ]
  },
  {
   "cell_type": "markdown",
   "metadata": {},
   "source": []
  }
 ],
 "metadata": {
  "interpreter": {
   "hash": "31f2aee4e71d21fbe5cf8b01ff0e069b9275f58929596ceb00d14d90e3e16cd6"
  },
  "kernelspec": {
   "display_name": "Python 3.8.9 64-bit",
   "language": "python",
   "name": "python3"
  },
  "language_info": {
   "codemirror_mode": {
    "name": "ipython",
    "version": 3
   },
   "file_extension": ".py",
   "mimetype": "text/x-python",
   "name": "python",
   "nbconvert_exporter": "python",
   "pygments_lexer": "ipython3",
   "version": "3.8.9"
  },
  "orig_nbformat": 4
 },
 "nbformat": 4,
 "nbformat_minor": 2
}
